{
 "cells": [
  {
   "cell_type": "code",
   "execution_count": 1,
   "metadata": {},
   "outputs": [],
   "source": [
    "import tensorflow as tf\n",
    "from tensorflow.keras.layers import (Conv2D, Conv2DTranspose, Lambda, Dropout,\n",
    "                                     MaxPooling2D, LeakyReLU, concatenate, BatchNormalization)"
   ]
  },
  {
   "cell_type": "code",
   "execution_count": 2,
   "metadata": {},
   "outputs": [],
   "source": [
    "def unet_conv_block(x, filters, kernel_size=3, batch_norm=True, dropout=False, name_prefix='enc_', name_suffix=0):\n",
    "    \n",
    "    name_fn = lambda layer, num: '{}{}{}'.format(name_prefix, layer, name_suffix, num)\n",
    "    \n",
    "    x = Conv2D(filters, kernel_size=kernel_size, activation=None,\n",
    "               kernel_initializer='he_normal',\n",
    "               padding='same', name=name_fn('conv',1))(x)\n",
    "    if batch_norm:\n",
    "        x = BatchNormalization(name=name_fn('bn',1))(x)\n",
    "    x = LeakyReLU(alpha=0.3, name=name_fn('act',1))(x)\n",
    "    if dropout:\n",
    "        x = Dropout(0.2, name=name_fn('drop', 1))(x)\n",
    "        \n",
    "    x = Conv2D(filters, kernel_size=kernel_size, activation=None,\n",
    "              kernel_initializer='he_normal', padding='same',\n",
    "              name=name_fn('conv',2))(x)\n",
    "    if batch_norm:\n",
    "        x = BatchNormalization(name=name_fn('bn',2))(x)\n",
    "    x = LeakyReLU(alpha=0.3, name=name_fn('act', 2))(x)\n",
    "    \n",
    "    return x"
   ]
  },
  {
   "cell_type": "code",
   "execution_count": 3,
   "metadata": {},
   "outputs": [],
   "source": [
    "def unet_deconv_block(x, filters, kernel_size=2, strides=2, batch_norm=True, dropout=False,\n",
    "                     name_prefix='dec_', name_suffix=0):\n",
    "    \n",
    "    name_fn = lambda layer, num: '{}{}{}-{}'.format(name_prefix, layer, name_suffix, num)\n",
    "    \n",
    "    x = Conv2D(filters, kernel_size=kernel_size, activation=None,\n",
    "              kernel_initializer='he_normal', padding='same',\n",
    "              name = name_fn('conv',1))(x)\n",
    "    if batch_norm:\n",
    "        x = BatchNormalization(name=name_fn('bn',1))(x)\n",
    "    x = LeakyReLU(alpha=0.3, name=name_fn('act',1))(x)\n",
    "    if dropout:\n",
    "        x = Dropout(0.2, name=name_fn('drop',1))(x)\n",
    "        \n",
    "    x = Conv2DTranspose(filters, kernel_size=kernel_size, strides=strides,\n",
    "                       activation=None, kernel_initializer='he_normal',\n",
    "                       padding='same', name=name_fn('conv',2))(x)\n",
    "    if batch_norm:\n",
    "        x = BatchNormalization(name=name_fn('bn',2))(x)\n",
    "    x = LeakyReLU(alpha=0.3, name=name_fn('act',2))(x)\n",
    "    \n",
    "    return x"
   ]
  },
  {
   "cell_type": "code",
   "execution_count": 4,
   "metadata": {},
   "outputs": [],
   "source": [
    "ResizeToSame = lambda name: Lambda(\n",
    "    lambda images: tf.image.resize(images[0], tf.shape(images[1])[1:3]),\n",
    "    name=name\n",
    ")"
   ]
  },
  {
   "cell_type": "code",
   "execution_count": null,
   "metadata": {},
   "outputs": [],
   "source": [
    "def unet(x, out_channels=3, layer_depth=4, filters_orig=32, kernel_size=4,\n",
    "        batch_norm=True, final_activation='sigmoid'):\n",
    "    \n",
    "    filters = filters_orig\n",
    "    outputs_for_skip = []\n",
    "    \n",
    "    for i in range(layer_depth):\n",
    "        conv_block = unet_conv_block(x, filters, kernel_size, \n",
    "                                    batch_norm = batch_norm, name_suffix=i)\n",
    "        outputs_for_skip.append(conv_block)\n",
    "        \n",
    "        x = MaxPooling2D(2)(conv_block_block)\n",
    "        filters = min(filters*2, 512)\n",
    "    \n",
    "    x = unet_conv_block(x, filters, kernel_size, name_suffix='btleneck')\n",
    "    \n",
    "    for i in range(layer_depth):\n",
    "        filters = max(filters//2, filters_orig)\n",
    "        \n",
    "        use_dropout = i < (layer_depth-2)\n",
    "        deconv_block = unet_deconv_block(x, filters, kernel_size, batch_norm=batch_norm, dropout=use_dropout,\n",
    "                                        name_suffix=i)\n",
    "        shortcut = outputs_for_skip[-(i+1)]\n",
    "        \n",
    "        deconv_block = ResizeToSame(name='resize_to_same{}'.format(i))([deconv_block, shortcut])\n",
    "        \n",
    "        x = concatenate([decon])"
   ]
  }
 ],
 "metadata": {
  "kernelspec": {
   "display_name": "Python 3",
   "language": "python",
   "name": "python3"
  },
  "language_info": {
   "codemirror_mode": {
    "name": "ipython",
    "version": 3
   },
   "file_extension": ".py",
   "mimetype": "text/x-python",
   "name": "python",
   "nbconvert_exporter": "python",
   "pygments_lexer": "ipython3",
   "version": "3.6.9"
  }
 },
 "nbformat": 4,
 "nbformat_minor": 2
}
